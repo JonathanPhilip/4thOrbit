{
  "cells": [
    {
      "cell_type": "markdown",
      "id": "1dbbc58b",
      "metadata": {
        "id": "1dbbc58b"
      },
      "source": [
        "# 🎯 Problem 5: Lack of Diversity in Product Recommendations\n",
        "This notebook simulates a recommendation system and applies logic to increase diversity and personalization using simple Python."
      ]
    },
    {
      "cell_type": "code",
      "execution_count": null,
      "id": "40b965de",
      "metadata": {
        "id": "40b965de"
      },
      "outputs": [],
      "source": [
        "# Sample Product Dataset\n",
        "products = [\n",
        "    {\"name\": \"Formal Shoes\", \"category\": \"Shoes\"},\n",
        "    {\"name\": \"Casual Shoes\", \"category\": \"Shoes\"},\n",
        "    {\"name\": \"Sports Shoes\", \"category\": \"Shoes\"},\n",
        "    {\"name\": \"Denim Jacket\", \"category\": \"Clothing\"},\n",
        "    {\"name\": \"Printed T-shirt\", \"category\": \"Clothing\"},\n",
        "    {\"name\": \"Leather Wallet\", \"category\": \"Accessories\"},\n",
        "    {\"name\": \"Analog Watch\", \"category\": \"Accessories\"},\n",
        "    {\"name\": \"Smartwatch\", \"category\": \"Accessories\"}\n",
        "]"
      ]
    },
    {
      "cell_type": "code",
      "execution_count": null,
      "id": "f71de158",
      "metadata": {
        "colab": {
          "base_uri": "https://localhost:8080/"
        },
        "id": "f71de158",
        "outputId": "70d1d2e0-aaba-4efa-9ebc-50bf55a23c5e"
      },
      "outputs": [
        {
          "output_type": "stream",
          "name": "stdout",
          "text": [
            "User has shown interest in: ['Shoes']\n"
          ]
        }
      ],
      "source": [
        "# Simulate user's past preferences\n",
        "user_liked_categories = [\"Shoes\"]  # User previously interacted mostly with shoes\n",
        "print(\"User has shown interest in:\", user_liked_categories)"
      ]
    },
    {
      "cell_type": "code",
      "execution_count": null,
      "id": "2f639f24",
      "metadata": {
        "colab": {
          "base_uri": "https://localhost:8080/"
        },
        "id": "2f639f24",
        "outputId": "3da98253-a5f5-4b31-cb42-d1ff2534ca9f"
      },
      "outputs": [
        {
          "output_type": "stream",
          "name": "stdout",
          "text": [
            "\n",
            " Diversified Recommendations:\n",
            "- Denim Jacket (Clothing)\n",
            "- Printed T-shirt (Clothing)\n",
            "- Leather Wallet (Accessories)\n",
            "- Analog Watch (Accessories)\n",
            "- Smartwatch (Accessories)\n"
          ]
        }
      ],
      "source": [
        "# Recommend with diversity - filter out over-represented categories\n",
        "diverse_recommendations = [p for p in products if p['category'] not in user_liked_categories]\n",
        "print(\"\\n Diversified Recommendations:\")\n",
        "for item in diverse_recommendations:\n",
        "    print(f\"- {item['name']} ({item['category']})\")"
      ]
    },
    {
      "cell_type": "code",
      "execution_count": null,
      "id": "54ed1ddd",
      "metadata": {
        "colab": {
          "base_uri": "https://localhost:8080/"
        },
        "id": "54ed1ddd",
        "outputId": "0bd2eb81-a712-421b-c2cc-4ce698fb7a11"
      },
      "outputs": [
        {
          "output_type": "stream",
          "name": "stdout",
          "text": [
            "\n",
            "🔀 Shuffled Diverse Recommendations:\n",
            "- Smartwatch (Accessories)\n",
            "- Analog Watch (Accessories)\n",
            "- Printed T-shirt (Clothing)\n",
            "- Denim Jacket (Clothing)\n",
            "- Leather Wallet (Accessories)\n"
          ]
        }
      ],
      "source": [
        "# (Optional) Add randomness to avoid same recommendations\n",
        "import random\n",
        "random.shuffle(diverse_recommendations)\n",
        "print(\"\\n🔀 Shuffled Diverse Recommendations:\")\n",
        "for item in diverse_recommendations[:5]:\n",
        "    print(f\"- {item['name']} ({item['category']})\")"
      ]
    }
  ],
  "metadata": {
    "colab": {
      "provenance": []
    },
    "kernelspec": {
      "display_name": "Python 3",
      "name": "python3"
    },
    "language_info": {
      "name": "python"
    }
  },
  "nbformat": 4,
  "nbformat_minor": 5
}